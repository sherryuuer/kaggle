{
 "cells": [
  {
   "cell_type": "code",
   "execution_count": 3,
   "id": "d2577565-497b-4102-a25d-61e335a03614",
   "metadata": {},
   "outputs": [],
   "source": [
    "# check the datasets\n",
    "from helper_functions.unzip_file import unzip_file\n",
    "\n",
    "# file_path = 'datas/playground-series-s4e4.zip'\n",
    "# output_dir = 'datas/abalone-dataset'\n",
    "# unzip_file(file_path, output_dir)"
   ]
  },
  {
   "cell_type": "code",
   "execution_count": 28,
   "id": "75423136-306a-4dd8-9cfc-0720d3640217",
   "metadata": {},
   "outputs": [],
   "source": [
    "# read the data to dataframe\n",
    "import pandas as pd\n",
    "df_train = pd.read_csv('datas/abalone-dataset/train.csv')\n",
    "df_test = pd.read_csv('datas/abalone-dataset/test.csv')\n",
    "sample_sub = pd.read_csv('datas/abalone-dataset/sample_submission.csv')\n",
    "# df_train.head(), df_test.head(), sample_sub.head()"
   ]
  },
  {
   "cell_type": "markdown",
   "id": "97dd2962-9930-4385-9059-b13d08e2588d",
   "metadata": {},
   "source": [
    "数据信息：\n",
    "\n",
    "1. 性别（Sex）：鲍鱼的性别，可能的取值为“M”（雄性）、“F”（雌性）和“I”（幼年）。\n",
    "2. 长度（Length）：鲍鱼的最长尺寸，单位为毫米。\n",
    "3. 直径（Diameter）：鲍鱼的最大直径，单位为毫米。\n",
    "4. 高度（Height）：鲍鱼的高度，单位为毫米。\n",
    "5. 整体重量（Whole weight）：整个鲍鱼的重量，单位为克。\n",
    "6. 剔除壳后重量（Shucked weight）：去除壳后的鲍鱼重量，单位为克。\n",
    "7. 肉重（Viscera weight）：鲍鱼肉的重量，单位为克。\n",
    "8. 壳重（Shell weight）：鲍鱼壳的重量，单位为克。\n",
    "9. 年龄（Rings）：鲍鱼的年龄，通过年轮的数量来确定。"
   ]
  },
  {
   "cell_type": "code",
   "execution_count": 29,
   "id": "d4bd191c-b598-49d2-8edf-6547625d1eba",
   "metadata": {},
   "outputs": [
    {
     "name": "stdout",
     "output_type": "stream",
     "text": [
      "Number of rows: 90615\n",
      "Number of columns: 10\n",
      "\n",
      "DataFrame info:\n",
      "<class 'pandas.core.frame.DataFrame'>\n",
      "RangeIndex: 90615 entries, 0 to 90614\n",
      "Data columns (total 10 columns):\n",
      " #   Column          Non-Null Count  Dtype  \n",
      "---  ------          --------------  -----  \n",
      " 0   id              90615 non-null  int64  \n",
      " 1   Sex             90615 non-null  object \n",
      " 2   Length          90615 non-null  float64\n",
      " 3   Diameter        90615 non-null  float64\n",
      " 4   Height          90615 non-null  float64\n",
      " 5   Whole weight    90615 non-null  float64\n",
      " 6   Whole weight.1  90615 non-null  float64\n",
      " 7   Whole weight.2  90615 non-null  float64\n",
      " 8   Shell weight    90615 non-null  float64\n",
      " 9   Rings           90615 non-null  int64  \n",
      "dtypes: float64(7), int64(2), object(1)\n",
      "memory usage: 6.9+ MB\n",
      "None\n",
      "\n",
      "DataFrame description:\n",
      "                 id        Length      Diameter        Height  Whole weight  \\\n",
      "count  90615.000000  90615.000000  90615.000000  90615.000000  90615.000000   \n",
      "mean   45307.000000      0.517098      0.401679      0.135464      0.789035   \n",
      "std    26158.441658      0.118217      0.098026      0.038008      0.457671   \n",
      "min        0.000000      0.075000      0.055000      0.000000      0.002000   \n",
      "25%    22653.500000      0.445000      0.345000      0.110000      0.419000   \n",
      "50%    45307.000000      0.545000      0.425000      0.140000      0.799500   \n",
      "75%    67960.500000      0.600000      0.470000      0.160000      1.067500   \n",
      "max    90614.000000      0.815000      0.650000      1.130000      2.825500   \n",
      "\n",
      "       Whole weight.1  Whole weight.2  Shell weight         Rings  \n",
      "count    90615.000000    90615.000000  90615.000000  90615.000000  \n",
      "mean         0.340778        0.169422      0.225898      9.696794  \n",
      "std          0.204428        0.100909      0.130203      3.176221  \n",
      "min          0.001000        0.000500      0.001500      1.000000  \n",
      "25%          0.177500        0.086500      0.120000      8.000000  \n",
      "50%          0.330000        0.166000      0.225000      9.000000  \n",
      "75%          0.463000        0.232500      0.305000     11.000000  \n",
      "max          1.488000        0.760000      1.005000     29.000000  \n"
     ]
    }
   ],
   "source": [
    "from helper_functions.info_df import info_df\n",
    "info_df(df_train)"
   ]
  },
  {
   "cell_type": "code",
   "execution_count": 33,
   "id": "99f107ee-2644-411e-bf18-2ce3b3a25cae",
   "metadata": {},
   "outputs": [],
   "source": [
    "from helper_functions.plot_df import plot_numerics, plot_cat, plot_corr_matrix\n",
    "df_train[\"Whole weight Ratio\"]=df_train[\"Whole weight.1\"]/df_train[\"Whole weight\"]\n",
    "cat_cols=['Sex']\n",
    "num_cols=['Length', 'Diameter', 'Height', \n",
    "             'Whole weight','Whole weight.1', \n",
    "             'Whole weight.2', 'Shell weight', \"Whole weight Ratio\"]"
   ]
  },
  {
   "cell_type": "code",
   "execution_count": 34,
   "id": "b2478490-be16-4696-89db-b6b385460fc0",
   "metadata": {},
   "outputs": [
    {
     "ename": "TypeError",
     "evalue": "plot_cat() takes 1 positional argument but 2 were given",
     "output_type": "error",
     "traceback": [
      "\u001b[0;31m---------------------------------------------------------------------------\u001b[0m",
      "\u001b[0;31mTypeError\u001b[0m                                 Traceback (most recent call last)",
      "Cell \u001b[0;32mIn[34], line 2\u001b[0m\n\u001b[1;32m      1\u001b[0m \u001b[38;5;66;03m# plot_numerics(df_train[num_cols])\u001b[39;00m\n\u001b[0;32m----> 2\u001b[0m plot_cat(df_train, \u001b[38;5;124m'\u001b[39m\u001b[38;5;124mRings\u001b[39m\u001b[38;5;124m'\u001b[39m)\n",
      "\u001b[0;31mTypeError\u001b[0m: plot_cat() takes 1 positional argument but 2 were given"
     ]
    }
   ],
   "source": [
    "# plot_numerics(df_train[num_cols])\n",
    "plot_cat(df_train, 'Rings')\n",
    "# plot_corr_matrix(df_train[num_cols+['Rings']])"
   ]
  },
  {
   "cell_type": "code",
   "execution_count": null,
   "id": "9eca8f69-d6a6-461c-93ab-a6bbf2832a84",
   "metadata": {},
   "outputs": [],
   "source": []
  }
 ],
 "metadata": {
  "kernelspec": {
   "display_name": "Python 3 (ipykernel)",
   "language": "python",
   "name": "python3"
  },
  "language_info": {
   "codemirror_mode": {
    "name": "ipython",
    "version": 3
   },
   "file_extension": ".py",
   "mimetype": "text/x-python",
   "name": "python",
   "nbconvert_exporter": "python",
   "pygments_lexer": "ipython3",
   "version": "3.11.5"
  }
 },
 "nbformat": 4,
 "nbformat_minor": 5
}
