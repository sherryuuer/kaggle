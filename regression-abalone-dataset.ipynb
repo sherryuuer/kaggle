{
 "cells": [
  {
   "cell_type": "code",
   "execution_count": 2,
   "id": "d2577565-497b-4102-a25d-61e335a03614",
   "metadata": {},
   "outputs": [
    {
     "name": "stdout",
     "output_type": "stream",
     "text": [
      "Unzip to :\n",
      "datas/abalone-dataset/test.csv\n",
      "datas/abalone-dataset/train.csv\n",
      "datas/abalone-dataset/sample_submission.csv\n"
     ]
    }
   ],
   "source": [
    "# check the datasets\n",
    "from unzip_file import unzip_file\n",
    "\n",
    "file_path = 'datas/playground-series-s4e4.zip'\n",
    "output_dir = 'datas/abalone-dataset'\n",
    "unzip_file(file_path, output_dir)"
   ]
  },
  {
   "cell_type": "code",
   "execution_count": null,
   "id": "75423136-306a-4dd8-9cfc-0720d3640217",
   "metadata": {},
   "outputs": [],
   "source": []
  }
 ],
 "metadata": {
  "kernelspec": {
   "display_name": "Python 3 (ipykernel)",
   "language": "python",
   "name": "python3"
  },
  "language_info": {
   "codemirror_mode": {
    "name": "ipython",
    "version": 3
   },
   "file_extension": ".py",
   "mimetype": "text/x-python",
   "name": "python",
   "nbconvert_exporter": "python",
   "pygments_lexer": "ipython3",
   "version": "3.11.5"
  }
 },
 "nbformat": 4,
 "nbformat_minor": 5
}
