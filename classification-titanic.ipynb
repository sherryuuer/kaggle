{
 "cells": [
  {
   "cell_type": "markdown",
   "id": "4968808a-e87b-4353-b004-3b7d530321e9",
   "metadata": {},
   "source": [
    "## Get Data"
   ]
  },
  {
   "cell_type": "code",
   "execution_count": 2,
   "id": "a35f3782-ff42-4c03-9abc-86697204d5e4",
   "metadata": {},
   "outputs": [],
   "source": [
    "# check the datasets\n",
    "# from helper_functions.unzip_file import unzip_file\n",
    "\n",
    "# file_path = 'datas/titanic.zip'\n",
    "# output_dir = 'datas/titanic'\n",
    "# unzip_file(file_path, output_dir)"
   ]
  },
  {
   "cell_type": "markdown",
   "id": "69940055-7d67-4340-8520-bdd3434966a0",
   "metadata": {},
   "source": [
    "## Set up"
   ]
  },
  {
   "cell_type": "code",
   "execution_count": 14,
   "id": "5c390b53-a968-4303-82f1-b7aee2a43739",
   "metadata": {},
   "outputs": [],
   "source": [
    "# Importing the libraries\n",
    "import pandas as pd\n",
    "from IPython.display import display\n",
    "from IPython.display import HTML\n",
    "import base64 \n",
    "# import pandas_profiling\n",
    "import seaborn as sns\n",
    "import numpy as np\n",
    "from sklearn.model_selection import train_test_split\n",
    "from sklearn.svm import SVC\n",
    "from sklearn.metrics import accuracy_score\n",
    "from sklearn.linear_model import LogisticRegression\n",
    "from sklearn.tree import DecisionTreeClassifier\n",
    "from sklearn.neighbors import KNeighborsClassifier\n",
    "from sklearn.naive_bayes import GaussianNB\n",
    "from sklearn.ensemble import RandomForestClassifier\n",
    "from sklearn.model_selection import KFold #for K-fold cross validation\n",
    "from sklearn.model_selection import cross_val_score #score evaluation\n",
    "from sklearn.model_selection import cross_val_predict #prediction\n",
    "from sklearn.metrics import confusion_matrix\n",
    "from sklearn.model_selection import GridSearchCV\n",
    "from IPython.display import FileLink, FileLinks\n",
    "import matplotlib.pyplot as plt\n",
    "import copy\n",
    "from tqdm import tqdm\n",
    "import warnings\n",
    "warnings.filterwarnings('ignore')"
   ]
  },
  {
   "cell_type": "code",
   "execution_count": 18,
   "id": "f52e89fe-7826-4854-9e5c-4ed54fbf8cea",
   "metadata": {},
   "outputs": [
    {
     "data": {
      "text/html": [
       "<div>\n",
       "<style scoped>\n",
       "    .dataframe tbody tr th:only-of-type {\n",
       "        vertical-align: middle;\n",
       "    }\n",
       "\n",
       "    .dataframe tbody tr th {\n",
       "        vertical-align: top;\n",
       "    }\n",
       "\n",
       "    .dataframe thead th {\n",
       "        text-align: right;\n",
       "    }\n",
       "</style>\n",
       "<table border=\"1\" class=\"dataframe\">\n",
       "  <thead>\n",
       "    <tr style=\"text-align: right;\">\n",
       "      <th></th>\n",
       "      <th>PassengerId</th>\n",
       "      <th>Survived</th>\n",
       "      <th>Pclass</th>\n",
       "      <th>Name</th>\n",
       "      <th>Sex</th>\n",
       "      <th>Age</th>\n",
       "      <th>SibSp</th>\n",
       "      <th>Parch</th>\n",
       "      <th>Ticket</th>\n",
       "      <th>Fare</th>\n",
       "      <th>Cabin</th>\n",
       "      <th>Embarked</th>\n",
       "    </tr>\n",
       "  </thead>\n",
       "  <tbody>\n",
       "    <tr>\n",
       "      <th>0</th>\n",
       "      <td>1</td>\n",
       "      <td>0</td>\n",
       "      <td>3</td>\n",
       "      <td>Braund, Mr. Owen Harris</td>\n",
       "      <td>male</td>\n",
       "      <td>22.0</td>\n",
       "      <td>1</td>\n",
       "      <td>0</td>\n",
       "      <td>A/5 21171</td>\n",
       "      <td>7.2500</td>\n",
       "      <td>NaN</td>\n",
       "      <td>S</td>\n",
       "    </tr>\n",
       "    <tr>\n",
       "      <th>1</th>\n",
       "      <td>2</td>\n",
       "      <td>1</td>\n",
       "      <td>1</td>\n",
       "      <td>Cumings, Mrs. John Bradley (Florence Briggs Th...</td>\n",
       "      <td>female</td>\n",
       "      <td>38.0</td>\n",
       "      <td>1</td>\n",
       "      <td>0</td>\n",
       "      <td>PC 17599</td>\n",
       "      <td>71.2833</td>\n",
       "      <td>C85</td>\n",
       "      <td>C</td>\n",
       "    </tr>\n",
       "    <tr>\n",
       "      <th>2</th>\n",
       "      <td>3</td>\n",
       "      <td>1</td>\n",
       "      <td>3</td>\n",
       "      <td>Heikkinen, Miss. Laina</td>\n",
       "      <td>female</td>\n",
       "      <td>26.0</td>\n",
       "      <td>0</td>\n",
       "      <td>0</td>\n",
       "      <td>STON/O2. 3101282</td>\n",
       "      <td>7.9250</td>\n",
       "      <td>NaN</td>\n",
       "      <td>S</td>\n",
       "    </tr>\n",
       "    <tr>\n",
       "      <th>3</th>\n",
       "      <td>4</td>\n",
       "      <td>1</td>\n",
       "      <td>1</td>\n",
       "      <td>Futrelle, Mrs. Jacques Heath (Lily May Peel)</td>\n",
       "      <td>female</td>\n",
       "      <td>35.0</td>\n",
       "      <td>1</td>\n",
       "      <td>0</td>\n",
       "      <td>113803</td>\n",
       "      <td>53.1000</td>\n",
       "      <td>C123</td>\n",
       "      <td>S</td>\n",
       "    </tr>\n",
       "    <tr>\n",
       "      <th>4</th>\n",
       "      <td>5</td>\n",
       "      <td>0</td>\n",
       "      <td>3</td>\n",
       "      <td>Allen, Mr. William Henry</td>\n",
       "      <td>male</td>\n",
       "      <td>35.0</td>\n",
       "      <td>0</td>\n",
       "      <td>0</td>\n",
       "      <td>373450</td>\n",
       "      <td>8.0500</td>\n",
       "      <td>NaN</td>\n",
       "      <td>S</td>\n",
       "    </tr>\n",
       "  </tbody>\n",
       "</table>\n",
       "</div>"
      ],
      "text/plain": [
       "   PassengerId  Survived  Pclass  \\\n",
       "0            1         0       3   \n",
       "1            2         1       1   \n",
       "2            3         1       3   \n",
       "3            4         1       1   \n",
       "4            5         0       3   \n",
       "\n",
       "                                                Name     Sex   Age  SibSp  \\\n",
       "0                            Braund, Mr. Owen Harris    male  22.0      1   \n",
       "1  Cumings, Mrs. John Bradley (Florence Briggs Th...  female  38.0      1   \n",
       "2                             Heikkinen, Miss. Laina  female  26.0      0   \n",
       "3       Futrelle, Mrs. Jacques Heath (Lily May Peel)  female  35.0      1   \n",
       "4                           Allen, Mr. William Henry    male  35.0      0   \n",
       "\n",
       "   Parch            Ticket     Fare Cabin Embarked  \n",
       "0      0         A/5 21171   7.2500   NaN        S  \n",
       "1      0          PC 17599  71.2833   C85        C  \n",
       "2      0  STON/O2. 3101282   7.9250   NaN        S  \n",
       "3      0            113803  53.1000  C123        S  \n",
       "4      0            373450   8.0500   NaN        S  "
      ]
     },
     "metadata": {},
     "output_type": "display_data"
    }
   ],
   "source": [
    "df_train = pd.read_csv(\"datas/titanic/train.csv\")\n",
    "display(df_train.head()) # displaying the training dataset"
   ]
  },
  {
   "cell_type": "code",
   "execution_count": 19,
   "id": "f62804a3-2ee4-4f2b-868b-a9580d3ac0bc",
   "metadata": {},
   "outputs": [
    {
     "data": {
      "text/html": [
       "<div>\n",
       "<style scoped>\n",
       "    .dataframe tbody tr th:only-of-type {\n",
       "        vertical-align: middle;\n",
       "    }\n",
       "\n",
       "    .dataframe tbody tr th {\n",
       "        vertical-align: top;\n",
       "    }\n",
       "\n",
       "    .dataframe thead th {\n",
       "        text-align: right;\n",
       "    }\n",
       "</style>\n",
       "<table border=\"1\" class=\"dataframe\">\n",
       "  <thead>\n",
       "    <tr style=\"text-align: right;\">\n",
       "      <th></th>\n",
       "      <th>PassengerId</th>\n",
       "      <th>Pclass</th>\n",
       "      <th>Name</th>\n",
       "      <th>Sex</th>\n",
       "      <th>Age</th>\n",
       "      <th>SibSp</th>\n",
       "      <th>Parch</th>\n",
       "      <th>Ticket</th>\n",
       "      <th>Fare</th>\n",
       "      <th>Cabin</th>\n",
       "      <th>Embarked</th>\n",
       "    </tr>\n",
       "  </thead>\n",
       "  <tbody>\n",
       "    <tr>\n",
       "      <th>0</th>\n",
       "      <td>892</td>\n",
       "      <td>3</td>\n",
       "      <td>Kelly, Mr. James</td>\n",
       "      <td>male</td>\n",
       "      <td>34.5</td>\n",
       "      <td>0</td>\n",
       "      <td>0</td>\n",
       "      <td>330911</td>\n",
       "      <td>7.8292</td>\n",
       "      <td>NaN</td>\n",
       "      <td>Q</td>\n",
       "    </tr>\n",
       "    <tr>\n",
       "      <th>1</th>\n",
       "      <td>893</td>\n",
       "      <td>3</td>\n",
       "      <td>Wilkes, Mrs. James (Ellen Needs)</td>\n",
       "      <td>female</td>\n",
       "      <td>47.0</td>\n",
       "      <td>1</td>\n",
       "      <td>0</td>\n",
       "      <td>363272</td>\n",
       "      <td>7.0000</td>\n",
       "      <td>NaN</td>\n",
       "      <td>S</td>\n",
       "    </tr>\n",
       "    <tr>\n",
       "      <th>2</th>\n",
       "      <td>894</td>\n",
       "      <td>2</td>\n",
       "      <td>Myles, Mr. Thomas Francis</td>\n",
       "      <td>male</td>\n",
       "      <td>62.0</td>\n",
       "      <td>0</td>\n",
       "      <td>0</td>\n",
       "      <td>240276</td>\n",
       "      <td>9.6875</td>\n",
       "      <td>NaN</td>\n",
       "      <td>Q</td>\n",
       "    </tr>\n",
       "    <tr>\n",
       "      <th>3</th>\n",
       "      <td>895</td>\n",
       "      <td>3</td>\n",
       "      <td>Wirz, Mr. Albert</td>\n",
       "      <td>male</td>\n",
       "      <td>27.0</td>\n",
       "      <td>0</td>\n",
       "      <td>0</td>\n",
       "      <td>315154</td>\n",
       "      <td>8.6625</td>\n",
       "      <td>NaN</td>\n",
       "      <td>S</td>\n",
       "    </tr>\n",
       "    <tr>\n",
       "      <th>4</th>\n",
       "      <td>896</td>\n",
       "      <td>3</td>\n",
       "      <td>Hirvonen, Mrs. Alexander (Helga E Lindqvist)</td>\n",
       "      <td>female</td>\n",
       "      <td>22.0</td>\n",
       "      <td>1</td>\n",
       "      <td>1</td>\n",
       "      <td>3101298</td>\n",
       "      <td>12.2875</td>\n",
       "      <td>NaN</td>\n",
       "      <td>S</td>\n",
       "    </tr>\n",
       "  </tbody>\n",
       "</table>\n",
       "</div>"
      ],
      "text/plain": [
       "   PassengerId  Pclass                                          Name     Sex  \\\n",
       "0          892       3                              Kelly, Mr. James    male   \n",
       "1          893       3              Wilkes, Mrs. James (Ellen Needs)  female   \n",
       "2          894       2                     Myles, Mr. Thomas Francis    male   \n",
       "3          895       3                              Wirz, Mr. Albert    male   \n",
       "4          896       3  Hirvonen, Mrs. Alexander (Helga E Lindqvist)  female   \n",
       "\n",
       "    Age  SibSp  Parch   Ticket     Fare Cabin Embarked  \n",
       "0  34.5      0      0   330911   7.8292   NaN        Q  \n",
       "1  47.0      1      0   363272   7.0000   NaN        S  \n",
       "2  62.0      0      0   240276   9.6875   NaN        Q  \n",
       "3  27.0      0      0   315154   8.6625   NaN        S  \n",
       "4  22.0      1      1  3101298  12.2875   NaN        S  "
      ]
     },
     "execution_count": 19,
     "metadata": {},
     "output_type": "execute_result"
    }
   ],
   "source": [
    "df_test = pd.read_csv(\"datas/titanic/test.csv\")\n",
    "df_test.head()"
   ]
  },
  {
   "cell_type": "markdown",
   "id": "f08ad7bf-669c-415a-84ca-8b98df26590c",
   "metadata": {},
   "source": [
    "## Data Exploration"
   ]
  },
  {
   "cell_type": "code",
   "execution_count": 20,
   "id": "1de43393-b3fa-40d2-a36f-0a8df9bb3cca",
   "metadata": {},
   "outputs": [
    {
     "data": {
      "text/plain": [
       "((891, 12), (418, 11))"
      ]
     },
     "execution_count": 20,
     "metadata": {},
     "output_type": "execute_result"
    }
   ],
   "source": [
    "df_train.shape, df_test.shape"
   ]
  },
  {
   "cell_type": "markdown",
   "id": "d1fbc851-666d-4cc7-92a5-a398cc1da293",
   "metadata": {},
   "source": [
    "| 列名          | 含义                                 |\n",
    "|--------------|--------------------------------------|\n",
    "| PassengerId  | 乘客的唯一标识符                     |\n",
    "| Survived     | 乘客是否幸存（0 = 未幸存，1 = 幸存） |\n",
    "| Pclass       | 乘客所在的船舱等级（1 = 一等舱，2 = 二等舱，3 = 三等舱） |\n",
    "| Name         | 乘客的姓名                           |\n",
    "| Sex          | 乘客的性别                           |\n",
    "| Age          | 乘客的年龄                           |\n",
    "| SibSp        | 乘客在船上的兄弟姐妹和配偶的数量     |\n",
    "| Parch        | 乘客在船上的父母和子女的数量         |\n",
    "| Ticket       | 船票号码                             |\n",
    "| Fare         | 乘客支付的船票费用                   |\n",
    "| Cabin        | 乘客的船舱号码                       |\n",
    "| Embarked     | 乘客登船的港口（C = Cherbourg，Q = Queenstown，S = Southampton） |"
   ]
  },
  {
   "cell_type": "code",
   "execution_count": 21,
   "id": "9870937f-1618-4399-8006-64981be89240",
   "metadata": {},
   "outputs": [
    {
     "name": "stdout",
     "output_type": "stream",
     "text": [
      "Number of rows: 891\n",
      "Number of columns: 12\n",
      "\n",
      "DataFrame info:\n",
      "<class 'pandas.core.frame.DataFrame'>\n",
      "RangeIndex: 891 entries, 0 to 890\n",
      "Data columns (total 12 columns):\n",
      " #   Column       Non-Null Count  Dtype  \n",
      "---  ------       --------------  -----  \n",
      " 0   PassengerId  891 non-null    int64  \n",
      " 1   Survived     891 non-null    int64  \n",
      " 2   Pclass       891 non-null    int64  \n",
      " 3   Name         891 non-null    object \n",
      " 4   Sex          891 non-null    object \n",
      " 5   Age          714 non-null    float64\n",
      " 6   SibSp        891 non-null    int64  \n",
      " 7   Parch        891 non-null    int64  \n",
      " 8   Ticket       891 non-null    object \n",
      " 9   Fare         891 non-null    float64\n",
      " 10  Cabin        204 non-null    object \n",
      " 11  Embarked     889 non-null    object \n",
      "dtypes: float64(2), int64(5), object(5)\n",
      "memory usage: 83.7+ KB\n",
      "None\n",
      "\n",
      "DataFrame description:\n",
      "       PassengerId    Survived      Pclass         Age       SibSp  \\\n",
      "count   891.000000  891.000000  891.000000  714.000000  891.000000   \n",
      "mean    446.000000    0.383838    2.308642   29.699118    0.523008   \n",
      "std     257.353842    0.486592    0.836071   14.526497    1.102743   \n",
      "min       1.000000    0.000000    1.000000    0.420000    0.000000   \n",
      "25%     223.500000    0.000000    2.000000   20.125000    0.000000   \n",
      "50%     446.000000    0.000000    3.000000   28.000000    0.000000   \n",
      "75%     668.500000    1.000000    3.000000   38.000000    1.000000   \n",
      "max     891.000000    1.000000    3.000000   80.000000    8.000000   \n",
      "\n",
      "            Parch        Fare  \n",
      "count  891.000000  891.000000  \n",
      "mean     0.381594   32.204208  \n",
      "std      0.806057   49.693429  \n",
      "min      0.000000    0.000000  \n",
      "25%      0.000000    7.910400  \n",
      "50%      0.000000   14.454200  \n",
      "75%      0.000000   31.000000  \n",
      "max      6.000000  512.329200  \n"
     ]
    }
   ],
   "source": [
    "from helper_functions.info_df import info_df\n",
    "info_df(df_train)"
   ]
  },
  {
   "cell_type": "code",
   "execution_count": 26,
   "id": "554c0a34-a831-457a-a28c-218d7a8786b7",
   "metadata": {},
   "outputs": [
    {
     "data": {
      "image/png": "[encoded data removed]",
      "text/plain": [
       "<Figure size 558.875x500 with 1 Axes>"
      ]
     },
     "metadata": {},
     "output_type": "display_data"
    }
   ],
   "source": [
    "# Explore SibSp feature vs Survived\n",
    "g = sns.catplot(x=\"SibSp\", y=\"Survived\", data=df_train, kind=\"bar\", palette=\"muted\")\n",
    "g = g.set_ylabels(\"survival probability\")"
   ]
  },
  {
   "cell_type": "code",
   "execution_count": 28,
   "id": "0060933d-d9ba-48d7-8fab-b6970a4981a8",
   "metadata": {},
   "outputs": [
    {
     "data": {
      "image/png": "[encoded data removed]",
      "text/plain": [
       "<Figure size 558.875x500 with 1 Axes>"
      ]
     },
     "metadata": {},
     "output_type": "display_data"
    }
   ],
   "source": [
    "# Explore Parch feature vs Survived\n",
    "g  = sns.catplot(x=\"Parch\",y=\"Survived\",data=df_train,kind=\"bar\",palette=\"muted\")\n",
    "g = g.set_ylabels(\"survival probability\")"
   ]
  },
  {
   "cell_type": "code",
   "execution_count": 30,
   "id": "6b4ab24d-55d7-424e-8fb2-f02cd05fc395",
   "metadata": {},
   "outputs": [
    {
     "data": {
      "image/png": "[encoded data removed]",
      "text/plain": [
       "<Figure size 600x300 with 2 Axes>"
      ]
     },
     "metadata": {},
     "output_type": "display_data"
    }
   ],
   "source": [
    "# Explore Age vs Survived\n",
    "g = sns.FacetGrid(df_train, col='Survived')\n",
    "g = g.map(sns.distplot, \"Age\")"
   ]
  },
  {
   "cell_type": "code",
   "execution_count": 31,
   "id": "c772d85f-d46f-4275-90cc-82ece070f0ba",
   "metadata": {},
   "outputs": [
    {
     "data": {
      "image/png": "[encoded data removed]",
      "text/plain": [
       "<Figure size 640x480 with 1 Axes>"
      ]
     },
     "metadata": {},
     "output_type": "display_data"
    }
   ],
   "source": [
    "# Explore Sex vs Survived\n",
    "g = sns.barplot(x=\"Sex\",y=\"Survived\",data=df_train)\n",
    "g = g.set_ylabel(\"Survival Probability\")"
   ]
  },
  {
   "cell_type": "code",
   "execution_count": 32,
   "id": "fc42a585-238d-463c-9b13-c79c69258ede",
   "metadata": {},
   "outputs": [
    {
     "data": {
      "image/png": "[encoded data removed]",
      "text/plain": [
       "<Figure size 598x500 with 1 Axes>"
      ]
     },
     "metadata": {},
     "output_type": "display_data"
    }
   ],
   "source": [
    "# Explore Pclass vs Survived by Sex\n",
    "g = sns.catplot(x=\"Pclass\", y=\"Survived\", hue=\"Sex\", data=df_train, kind=\"bar\", palette=\"muted\")\n",
    "g = g.set_ylabels(\"survival probability\")"
   ]
  },
  {
   "cell_type": "code",
   "execution_count": 34,
   "id": "cb8e0fa7-4481-47f6-8b6a-af01eb44dced",
   "metadata": {},
   "outputs": [
    {
     "data": {
      "image/png": "[encoded data removed]",
      "text/plain": [
       "<Figure size 581.611x500 with 1 Axes>"
      ]
     },
     "metadata": {},
     "output_type": "display_data"
    }
   ],
   "source": [
    "# Explore Embarked vs Survived \n",
    "g = sns.catplot(x=\"Embarked\", y=\"Survived\", data=df_train, kind=\"bar\", palette=\"muted\")\n",
    "g = g.set_ylabels(\"survival probability\")"
   ]
  },
  {
   "cell_type": "code",
   "execution_count": 53,
   "id": "bc94a11f-ea96-47a1-82f7-725160361a06",
   "metadata": {},
   "outputs": [
    {
     "data": {
      "text/plain": [
       "<Axes: >"
      ]
     },
     "execution_count": 53,
     "metadata": {},
     "output_type": "execute_result"
    },
    {
     "data": {
      "image/png": "[encoded data removed]",
      "text/plain": [
       "<Figure size 560x560 with 1 Axes>"
      ]
     },
     "metadata": {},
     "output_type": "display_data"
    }
   ],
   "source": [
    "# plot histograms of fare\n",
    "%matplotlib inline\n",
    "plt.style.use('classic')\n",
    "df_train['Fare'].hist(figsize=(7, 7), bins=40, xrot=70, color='green',alpha=0.5)"
   ]
  },
  {
   "cell_type": "markdown",
   "id": "ba95941c-ccd5-4bd5-a122-45111dde2988",
   "metadata": {},
   "source": [
    "可以看出性别，仓位，年龄，家庭成员数量都对结果有影响。同时fare列需要进行对数变换。"
   ]
  },
  {
   "cell_type": "markdown",
   "id": "a109a18a-98ed-42ac-964c-935743a81dd9",
   "metadata": {},
   "source": [
    "## Missing Data"
   ]
  },
  {
   "cell_type": "code",
   "execution_count": 36,
   "id": "5a6a7ee8-7bd8-47a2-a2e9-75e426e65141",
   "metadata": {},
   "outputs": [
    {
     "data": {
      "text/html": [
       "<div>\n",
       "<style scoped>\n",
       "    .dataframe tbody tr th:only-of-type {\n",
       "        vertical-align: middle;\n",
       "    }\n",
       "\n",
       "    .dataframe tbody tr th {\n",
       "        vertical-align: top;\n",
       "    }\n",
       "\n",
       "    .dataframe thead th {\n",
       "        text-align: right;\n",
       "    }\n",
       "</style>\n",
       "<table border=\"1\" class=\"dataframe\">\n",
       "  <thead>\n",
       "    <tr style=\"text-align: right;\">\n",
       "      <th></th>\n",
       "      <th>PassengerId</th>\n",
       "      <th>Survived</th>\n",
       "      <th>Pclass</th>\n",
       "      <th>Name</th>\n",
       "      <th>Sex</th>\n",
       "      <th>Age</th>\n",
       "      <th>SibSp</th>\n",
       "      <th>Parch</th>\n",
       "      <th>Ticket</th>\n",
       "      <th>Fare</th>\n",
       "      <th>Cabin</th>\n",
       "      <th>Embarked</th>\n",
       "    </tr>\n",
       "  </thead>\n",
       "  <tbody>\n",
       "    <tr>\n",
       "      <th>1304</th>\n",
       "      <td>1305</td>\n",
       "      <td>NaN</td>\n",
       "      <td>3</td>\n",
       "      <td>Spector, Mr. Woolf</td>\n",
       "      <td>male</td>\n",
       "      <td>NaN</td>\n",
       "      <td>0</td>\n",
       "      <td>0</td>\n",
       "      <td>A.5. 3236</td>\n",
       "      <td>8.0500</td>\n",
       "      <td>NaN</td>\n",
       "      <td>S</td>\n",
       "    </tr>\n",
       "    <tr>\n",
       "      <th>1305</th>\n",
       "      <td>1306</td>\n",
       "      <td>NaN</td>\n",
       "      <td>1</td>\n",
       "      <td>Oliva y Ocana, Dona. Fermina</td>\n",
       "      <td>female</td>\n",
       "      <td>39.0</td>\n",
       "      <td>0</td>\n",
       "      <td>0</td>\n",
       "      <td>PC 17758</td>\n",
       "      <td>108.9000</td>\n",
       "      <td>C105</td>\n",
       "      <td>C</td>\n",
       "    </tr>\n",
       "    <tr>\n",
       "      <th>1306</th>\n",
       "      <td>1307</td>\n",
       "      <td>NaN</td>\n",
       "      <td>3</td>\n",
       "      <td>Saether, Mr. Simon Sivertsen</td>\n",
       "      <td>male</td>\n",
       "      <td>38.5</td>\n",
       "      <td>0</td>\n",
       "      <td>0</td>\n",
       "      <td>SOTON/O.Q. 3101262</td>\n",
       "      <td>7.2500</td>\n",
       "      <td>NaN</td>\n",
       "      <td>S</td>\n",
       "    </tr>\n",
       "    <tr>\n",
       "      <th>1307</th>\n",
       "      <td>1308</td>\n",
       "      <td>NaN</td>\n",
       "      <td>3</td>\n",
       "      <td>Ware, Mr. Frederick</td>\n",
       "      <td>male</td>\n",
       "      <td>NaN</td>\n",
       "      <td>0</td>\n",
       "      <td>0</td>\n",
       "      <td>359309</td>\n",
       "      <td>8.0500</td>\n",
       "      <td>NaN</td>\n",
       "      <td>S</td>\n",
       "    </tr>\n",
       "    <tr>\n",
       "      <th>1308</th>\n",
       "      <td>1309</td>\n",
       "      <td>NaN</td>\n",
       "      <td>3</td>\n",
       "      <td>Peter, Master. Michael J</td>\n",
       "      <td>male</td>\n",
       "      <td>NaN</td>\n",
       "      <td>1</td>\n",
       "      <td>1</td>\n",
       "      <td>2668</td>\n",
       "      <td>22.3583</td>\n",
       "      <td>NaN</td>\n",
       "      <td>C</td>\n",
       "    </tr>\n",
       "  </tbody>\n",
       "</table>\n",
       "</div>"
      ],
      "text/plain": [
       "      PassengerId  Survived  Pclass                          Name     Sex  \\\n",
       "1304         1305       NaN       3            Spector, Mr. Woolf    male   \n",
       "1305         1306       NaN       1  Oliva y Ocana, Dona. Fermina  female   \n",
       "1306         1307       NaN       3  Saether, Mr. Simon Sivertsen    male   \n",
       "1307         1308       NaN       3           Ware, Mr. Frederick    male   \n",
       "1308         1309       NaN       3      Peter, Master. Michael J    male   \n",
       "\n",
       "       Age  SibSp  Parch              Ticket      Fare Cabin Embarked  \n",
       "1304   NaN      0      0           A.5. 3236    8.0500   NaN        S  \n",
       "1305  39.0      0      0            PC 17758  108.9000  C105        C  \n",
       "1306  38.5      0      0  SOTON/O.Q. 3101262    7.2500   NaN        S  \n",
       "1307   NaN      0      0              359309    8.0500   NaN        S  \n",
       "1308   NaN      1      1                2668   22.3583   NaN        C  "
      ]
     },
     "execution_count": 36,
     "metadata": {},
     "output_type": "execute_result"
    }
   ],
   "source": [
    "id_test = df_test[\"PassengerId\"]\n",
    "dataset =  pd.concat(objs=[df_train, df_test], axis=0).reset_index(drop=True) # Joining the training and the test dataset\n",
    "dataset.tail()"
   ]
  },
  {
   "cell_type": "code",
   "execution_count": 37,
   "id": "0df869bb-e4f1-4159-912b-2712acd1b7d3",
   "metadata": {},
   "outputs": [
    {
     "data": {
      "text/plain": [
       "PassengerId       0\n",
       "Survived        418\n",
       "Pclass            0\n",
       "Name              0\n",
       "Sex               0\n",
       "Age             263\n",
       "SibSp             0\n",
       "Parch             0\n",
       "Ticket            0\n",
       "Fare              1\n",
       "Cabin          1014\n",
       "Embarked          2\n",
       "dtype: int64"
      ]
     },
     "execution_count": 37,
     "metadata": {},
     "output_type": "execute_result"
    }
   ],
   "source": [
    "# Checking for missing values in the entire dataset and then dealing with the missing values\n",
    "dataset = dataset.fillna(np.nan)\n",
    "dataset.isnull().sum()"
   ]
  },
  {
   "cell_type": "code",
   "execution_count": 38,
   "id": "45d657a8-664d-459c-9880-ab276e793c4d",
   "metadata": {},
   "outputs": [
    {
     "data": {
      "text/html": [
       "<div>\n",
       "<style scoped>\n",
       "    .dataframe tbody tr th:only-of-type {\n",
       "        vertical-align: middle;\n",
       "    }\n",
       "\n",
       "    .dataframe tbody tr th {\n",
       "        vertical-align: top;\n",
       "    }\n",
       "\n",
       "    .dataframe thead th {\n",
       "        text-align: right;\n",
       "    }\n",
       "</style>\n",
       "<table border=\"1\" class=\"dataframe\">\n",
       "  <thead>\n",
       "    <tr style=\"text-align: right;\">\n",
       "      <th></th>\n",
       "      <th>PassengerId</th>\n",
       "      <th>Survived</th>\n",
       "      <th>Pclass</th>\n",
       "      <th>Name</th>\n",
       "      <th>Sex</th>\n",
       "      <th>Age</th>\n",
       "      <th>SibSp</th>\n",
       "      <th>Parch</th>\n",
       "      <th>Ticket</th>\n",
       "      <th>Fare</th>\n",
       "      <th>Cabin</th>\n",
       "      <th>Embarked</th>\n",
       "    </tr>\n",
       "  </thead>\n",
       "  <tbody>\n",
       "    <tr>\n",
       "      <th>1304</th>\n",
       "      <td>1305</td>\n",
       "      <td>NaN</td>\n",
       "      <td>3</td>\n",
       "      <td>Spector, Mr. Woolf</td>\n",
       "      <td>male</td>\n",
       "      <td>NaN</td>\n",
       "      <td>0</td>\n",
       "      <td>0</td>\n",
       "      <td>A.5. 3236</td>\n",
       "      <td>8.0500</td>\n",
       "      <td>NaN</td>\n",
       "      <td>S</td>\n",
       "    </tr>\n",
       "    <tr>\n",
       "      <th>1305</th>\n",
       "      <td>1306</td>\n",
       "      <td>NaN</td>\n",
       "      <td>1</td>\n",
       "      <td>Oliva y Ocana, Dona. Fermina</td>\n",
       "      <td>female</td>\n",
       "      <td>39.0</td>\n",
       "      <td>0</td>\n",
       "      <td>0</td>\n",
       "      <td>PC 17758</td>\n",
       "      <td>108.9000</td>\n",
       "      <td>C105</td>\n",
       "      <td>C</td>\n",
       "    </tr>\n",
       "    <tr>\n",
       "      <th>1306</th>\n",
       "      <td>1307</td>\n",
       "      <td>NaN</td>\n",
       "      <td>3</td>\n",
       "      <td>Saether, Mr. Simon Sivertsen</td>\n",
       "      <td>male</td>\n",
       "      <td>38.5</td>\n",
       "      <td>0</td>\n",
       "      <td>0</td>\n",
       "      <td>SOTON/O.Q. 3101262</td>\n",
       "      <td>7.2500</td>\n",
       "      <td>NaN</td>\n",
       "      <td>S</td>\n",
       "    </tr>\n",
       "    <tr>\n",
       "      <th>1307</th>\n",
       "      <td>1308</td>\n",
       "      <td>NaN</td>\n",
       "      <td>3</td>\n",
       "      <td>Ware, Mr. Frederick</td>\n",
       "      <td>male</td>\n",
       "      <td>NaN</td>\n",
       "      <td>0</td>\n",
       "      <td>0</td>\n",
       "      <td>359309</td>\n",
       "      <td>8.0500</td>\n",
       "      <td>NaN</td>\n",
       "      <td>S</td>\n",
       "    </tr>\n",
       "    <tr>\n",
       "      <th>1308</th>\n",
       "      <td>1309</td>\n",
       "      <td>NaN</td>\n",
       "      <td>3</td>\n",
       "      <td>Peter, Master. Michael J</td>\n",
       "      <td>male</td>\n",
       "      <td>NaN</td>\n",
       "      <td>1</td>\n",
       "      <td>1</td>\n",
       "      <td>2668</td>\n",
       "      <td>22.3583</td>\n",
       "      <td>NaN</td>\n",
       "      <td>C</td>\n",
       "    </tr>\n",
       "  </tbody>\n",
       "</table>\n",
       "</div>"
      ],
      "text/plain": [
       "      PassengerId  Survived  Pclass                          Name     Sex  \\\n",
       "1304         1305       NaN       3            Spector, Mr. Woolf    male   \n",
       "1305         1306       NaN       1  Oliva y Ocana, Dona. Fermina  female   \n",
       "1306         1307       NaN       3  Saether, Mr. Simon Sivertsen    male   \n",
       "1307         1308       NaN       3           Ware, Mr. Frederick    male   \n",
       "1308         1309       NaN       3      Peter, Master. Michael J    male   \n",
       "\n",
       "       Age  SibSp  Parch              Ticket      Fare Cabin Embarked  \n",
       "1304   NaN      0      0           A.5. 3236    8.0500   NaN        S  \n",
       "1305  39.0      0      0            PC 17758  108.9000  C105        C  \n",
       "1306  38.5      0      0  SOTON/O.Q. 3101262    7.2500   NaN        S  \n",
       "1307   NaN      0      0              359309    8.0500   NaN        S  \n",
       "1308   NaN      1      1                2668   22.3583   NaN        C  "
      ]
     },
     "execution_count": 38,
     "metadata": {},
     "output_type": "execute_result"
    }
   ],
   "source": [
    "dataset.tail()"
   ]
  },
  {
   "cell_type": "code",
   "execution_count": 39,
   "id": "a2ded9fa-ba80-4e8d-b8c0-3bad1e631bd7",
   "metadata": {},
   "outputs": [],
   "source": [
    "dataset = dataset.drop([\"Cabin\"], axis=1) # too many NaN to use\n",
    "dataset[\"Fare\"] = dataset[\"Fare\"].fillna(dataset[\"Fare\"].median()) # Doing the median imputation for the Fare column\n",
    "dataset[\"Embarked\"] = dataset[\"Embarked\"].fillna(\"S\") # Doing the mode imputation for the Embarked column"
   ]
  },
  {
   "cell_type": "code",
   "execution_count": 41,
   "id": "ae294da8-3ac1-4520-bae7-9d5b7aa754ec",
   "metadata": {},
   "outputs": [
    {
     "data": {
      "text/plain": [
       "Title\n",
       "Mr          757\n",
       "Miss        260\n",
       "Mrs         197\n",
       "Master       61\n",
       "Rev           8\n",
       "Dr            8\n",
       "Col           4\n",
       "Mlle          2\n",
       "Major         2\n",
       "Ms            2\n",
       "Lady          1\n",
       "Sir           1\n",
       "Mme           1\n",
       "Don           1\n",
       "Capt          1\n",
       "Countess      1\n",
       "Jonkheer      1\n",
       "Dona          1\n",
       "Name: count, dtype: int64"
      ]
     },
     "execution_count": 41,
     "metadata": {},
     "output_type": "execute_result"
    }
   ],
   "source": [
    "# deal with missing age by impute the age with the median of same title\n",
    "dataset['Title'] = dataset['Name'].str.extract('([A-Za-z]+)\\.', expand=True) # Using regular expression to extract the title\n",
    "dataset['Title'].value_counts()"
   ]
  },
  {
   "cell_type": "code",
   "execution_count": 42,
   "id": "41593069-87d0-4862-8814-69e8e9294986",
   "metadata": {},
   "outputs": [],
   "source": [
    "# replace rare titles with more common ones\n",
    "mapping = {'Mlle': 'Miss', 'Major': 'Mr', 'Col': 'Mr', 'Sir': 'Mr',\n",
    "           'Don': 'Mr', 'Mme': 'Mrs', 'Jonkheer': 'Mr', 'Lady': 'Mrs',\n",
    "           'Capt': 'Mr', 'Countess': 'Mrs', 'Ms': 'Miss', 'Dona': 'Mrs'}\n",
    "dataset.replace({'Title': mapping}, inplace=True)"
   ]
  },
  {
   "cell_type": "code",
   "execution_count": 43,
   "id": "d2cc37b7-b2d9-4cb2-8049-98e4d1e692f0",
   "metadata": {},
   "outputs": [
    {
     "data": {
      "text/html": [
       "<div>\n",
       "<style scoped>\n",
       "    .dataframe tbody tr th:only-of-type {\n",
       "        vertical-align: middle;\n",
       "    }\n",
       "\n",
       "    .dataframe tbody tr th {\n",
       "        vertical-align: top;\n",
       "    }\n",
       "\n",
       "    .dataframe thead th {\n",
       "        text-align: right;\n",
       "    }\n",
       "</style>\n",
       "<table border=\"1\" class=\"dataframe\">\n",
       "  <thead>\n",
       "    <tr style=\"text-align: right;\">\n",
       "      <th></th>\n",
       "      <th>PassengerId</th>\n",
       "      <th>Survived</th>\n",
       "      <th>Pclass</th>\n",
       "      <th>Name</th>\n",
       "      <th>Sex</th>\n",
       "      <th>Age</th>\n",
       "      <th>SibSp</th>\n",
       "      <th>Parch</th>\n",
       "      <th>Ticket</th>\n",
       "      <th>Fare</th>\n",
       "      <th>Embarked</th>\n",
       "      <th>Title</th>\n",
       "    </tr>\n",
       "  </thead>\n",
       "  <tbody>\n",
       "    <tr>\n",
       "      <th>0</th>\n",
       "      <td>1</td>\n",
       "      <td>0.0</td>\n",
       "      <td>3</td>\n",
       "      <td>Braund, Mr. Owen Harris</td>\n",
       "      <td>male</td>\n",
       "      <td>22.0</td>\n",
       "      <td>1</td>\n",
       "      <td>0</td>\n",
       "      <td>A/5 21171</td>\n",
       "      <td>7.2500</td>\n",
       "      <td>S</td>\n",
       "      <td>Mr</td>\n",
       "    </tr>\n",
       "    <tr>\n",
       "      <th>1</th>\n",
       "      <td>2</td>\n",
       "      <td>1.0</td>\n",
       "      <td>1</td>\n",
       "      <td>Cumings, Mrs. John Bradley (Florence Briggs Th...</td>\n",
       "      <td>female</td>\n",
       "      <td>38.0</td>\n",
       "      <td>1</td>\n",
       "      <td>0</td>\n",
       "      <td>PC 17599</td>\n",
       "      <td>71.2833</td>\n",
       "      <td>C</td>\n",
       "      <td>Mrs</td>\n",
       "    </tr>\n",
       "    <tr>\n",
       "      <th>2</th>\n",
       "      <td>3</td>\n",
       "      <td>1.0</td>\n",
       "      <td>3</td>\n",
       "      <td>Heikkinen, Miss. Laina</td>\n",
       "      <td>female</td>\n",
       "      <td>26.0</td>\n",
       "      <td>0</td>\n",
       "      <td>0</td>\n",
       "      <td>STON/O2. 3101282</td>\n",
       "      <td>7.9250</td>\n",
       "      <td>S</td>\n",
       "      <td>Miss</td>\n",
       "    </tr>\n",
       "    <tr>\n",
       "      <th>3</th>\n",
       "      <td>4</td>\n",
       "      <td>1.0</td>\n",
       "      <td>1</td>\n",
       "      <td>Futrelle, Mrs. Jacques Heath (Lily May Peel)</td>\n",
       "      <td>female</td>\n",
       "      <td>35.0</td>\n",
       "      <td>1</td>\n",
       "      <td>0</td>\n",
       "      <td>113803</td>\n",
       "      <td>53.1000</td>\n",
       "      <td>S</td>\n",
       "      <td>Mrs</td>\n",
       "    </tr>\n",
       "    <tr>\n",
       "      <th>4</th>\n",
       "      <td>5</td>\n",
       "      <td>0.0</td>\n",
       "      <td>3</td>\n",
       "      <td>Allen, Mr. William Henry</td>\n",
       "      <td>male</td>\n",
       "      <td>35.0</td>\n",
       "      <td>0</td>\n",
       "      <td>0</td>\n",
       "      <td>373450</td>\n",
       "      <td>8.0500</td>\n",
       "      <td>S</td>\n",
       "      <td>Mr</td>\n",
       "    </tr>\n",
       "  </tbody>\n",
       "</table>\n",
       "</div>"
      ],
      "text/plain": [
       "   PassengerId  Survived  Pclass  \\\n",
       "0            1       0.0       3   \n",
       "1            2       1.0       1   \n",
       "2            3       1.0       3   \n",
       "3            4       1.0       1   \n",
       "4            5       0.0       3   \n",
       "\n",
       "                                                Name     Sex   Age  SibSp  \\\n",
       "0                            Braund, Mr. Owen Harris    male  22.0      1   \n",
       "1  Cumings, Mrs. John Bradley (Florence Briggs Th...  female  38.0      1   \n",
       "2                             Heikkinen, Miss. Laina  female  26.0      0   \n",
       "3       Futrelle, Mrs. Jacques Heath (Lily May Peel)  female  35.0      1   \n",
       "4                           Allen, Mr. William Henry    male  35.0      0   \n",
       "\n",
       "   Parch            Ticket     Fare Embarked Title  \n",
       "0      0         A/5 21171   7.2500        S    Mr  \n",
       "1      0          PC 17599  71.2833        C   Mrs  \n",
       "2      0  STON/O2. 3101282   7.9250        S  Miss  \n",
       "3      0            113803  53.1000        S   Mrs  \n",
       "4      0            373450   8.0500        S    Mr  "
      ]
     },
     "execution_count": 43,
     "metadata": {},
     "output_type": "execute_result"
    }
   ],
   "source": [
    "dataset.head()"
   ]
  },
  {
   "cell_type": "code",
   "execution_count": 44,
   "id": "e0db0e27-8d9c-4ad4-998f-870da0b3778e",
   "metadata": {},
   "outputs": [
    {
     "data": {
      "text/plain": [
       "Title\n",
       "Mr        767\n",
       "Miss      264\n",
       "Mrs       201\n",
       "Master     61\n",
       "Rev         8\n",
       "Dr          8\n",
       "Name: count, dtype: int64"
      ]
     },
     "execution_count": 44,
     "metadata": {},
     "output_type": "execute_result"
    }
   ],
   "source": [
    "# confirm that we are left with just six values\n",
    "dataset['Title'].value_counts()"
   ]
  },
  {
   "cell_type": "code",
   "execution_count": 45,
   "id": "fc98f735-5910-4411-a483-c40c979c6008",
   "metadata": {},
   "outputs": [
    {
     "data": {
      "text/plain": [
       "{'Dr': 49.0, 'Master': 4.0, 'Miss': 22.0, 'Mr': 30.0, 'Mrs': 35.5, 'Rev': 41.5}"
      ]
     },
     "execution_count": 45,
     "metadata": {},
     "output_type": "execute_result"
    }
   ],
   "source": [
    "# impute missing Age values using median of Title groups\n",
    "title_ages = dict(dataset.groupby('Title')['Age'].median())\n",
    "\n",
    "title_ages"
   ]
  },
  {
   "cell_type": "code",
   "execution_count": 46,
   "id": "71d54aee-ae45-40a5-aff8-7bb02cb546e1",
   "metadata": {},
   "outputs": [],
   "source": [
    "# create a column of the average ages\n",
    "dataset['age_med'] = dataset['Title'].apply(lambda x: title_ages[x])\n",
    "\n",
    "# replace all missing ages with the value in this column\n",
    "dataset['Age'].fillna(dataset['age_med'], inplace=True, )\n",
    "del dataset['age_med']"
   ]
  },
  {
   "cell_type": "code",
   "execution_count": 47,
   "id": "cd2b3cc8-2b2a-4806-a01f-f2cd41dc7331",
   "metadata": {},
   "outputs": [
    {
     "data": {
      "text/html": [
       "<div>\n",
       "<style scoped>\n",
       "    .dataframe tbody tr th:only-of-type {\n",
       "        vertical-align: middle;\n",
       "    }\n",
       "\n",
       "    .dataframe tbody tr th {\n",
       "        vertical-align: top;\n",
       "    }\n",
       "\n",
       "    .dataframe thead th {\n",
       "        text-align: right;\n",
       "    }\n",
       "</style>\n",
       "<table border=\"1\" class=\"dataframe\">\n",
       "  <thead>\n",
       "    <tr style=\"text-align: right;\">\n",
       "      <th></th>\n",
       "      <th>PassengerId</th>\n",
       "      <th>Survived</th>\n",
       "      <th>Pclass</th>\n",
       "      <th>Name</th>\n",
       "      <th>Sex</th>\n",
       "      <th>Age</th>\n",
       "      <th>SibSp</th>\n",
       "      <th>Parch</th>\n",
       "      <th>Ticket</th>\n",
       "      <th>Fare</th>\n",
       "      <th>Embarked</th>\n",
       "      <th>Title</th>\n",
       "    </tr>\n",
       "  </thead>\n",
       "  <tbody>\n",
       "    <tr>\n",
       "      <th>0</th>\n",
       "      <td>1</td>\n",
       "      <td>0.0</td>\n",
       "      <td>3</td>\n",
       "      <td>Braund, Mr. Owen Harris</td>\n",
       "      <td>male</td>\n",
       "      <td>22.0</td>\n",
       "      <td>1</td>\n",
       "      <td>0</td>\n",
       "      <td>A/5 21171</td>\n",
       "      <td>7.2500</td>\n",
       "      <td>S</td>\n",
       "      <td>Mr</td>\n",
       "    </tr>\n",
       "    <tr>\n",
       "      <th>1</th>\n",
       "      <td>2</td>\n",
       "      <td>1.0</td>\n",
       "      <td>1</td>\n",
       "      <td>Cumings, Mrs. John Bradley (Florence Briggs Th...</td>\n",
       "      <td>female</td>\n",
       "      <td>38.0</td>\n",
       "      <td>1</td>\n",
       "      <td>0</td>\n",
       "      <td>PC 17599</td>\n",
       "      <td>71.2833</td>\n",
       "      <td>C</td>\n",
       "      <td>Mrs</td>\n",
       "    </tr>\n",
       "    <tr>\n",
       "      <th>2</th>\n",
       "      <td>3</td>\n",
       "      <td>1.0</td>\n",
       "      <td>3</td>\n",
       "      <td>Heikkinen, Miss. Laina</td>\n",
       "      <td>female</td>\n",
       "      <td>26.0</td>\n",
       "      <td>0</td>\n",
       "      <td>0</td>\n",
       "      <td>STON/O2. 3101282</td>\n",
       "      <td>7.9250</td>\n",
       "      <td>S</td>\n",
       "      <td>Miss</td>\n",
       "    </tr>\n",
       "    <tr>\n",
       "      <th>3</th>\n",
       "      <td>4</td>\n",
       "      <td>1.0</td>\n",
       "      <td>1</td>\n",
       "      <td>Futrelle, Mrs. Jacques Heath (Lily May Peel)</td>\n",
       "      <td>female</td>\n",
       "      <td>35.0</td>\n",
       "      <td>1</td>\n",
       "      <td>0</td>\n",
       "      <td>113803</td>\n",
       "      <td>53.1000</td>\n",
       "      <td>S</td>\n",
       "      <td>Mrs</td>\n",
       "    </tr>\n",
       "    <tr>\n",
       "      <th>4</th>\n",
       "      <td>5</td>\n",
       "      <td>0.0</td>\n",
       "      <td>3</td>\n",
       "      <td>Allen, Mr. William Henry</td>\n",
       "      <td>male</td>\n",
       "      <td>35.0</td>\n",
       "      <td>0</td>\n",
       "      <td>0</td>\n",
       "      <td>373450</td>\n",
       "      <td>8.0500</td>\n",
       "      <td>S</td>\n",
       "      <td>Mr</td>\n",
       "    </tr>\n",
       "  </tbody>\n",
       "</table>\n",
       "</div>"
      ],
      "text/plain": [
       "   PassengerId  Survived  Pclass  \\\n",
       "0            1       0.0       3   \n",
       "1            2       1.0       1   \n",
       "2            3       1.0       3   \n",
       "3            4       1.0       1   \n",
       "4            5       0.0       3   \n",
       "\n",
       "                                                Name     Sex   Age  SibSp  \\\n",
       "0                            Braund, Mr. Owen Harris    male  22.0      1   \n",
       "1  Cumings, Mrs. John Bradley (Florence Briggs Th...  female  38.0      1   \n",
       "2                             Heikkinen, Miss. Laina  female  26.0      0   \n",
       "3       Futrelle, Mrs. Jacques Heath (Lily May Peel)  female  35.0      1   \n",
       "4                           Allen, Mr. William Henry    male  35.0      0   \n",
       "\n",
       "   Parch            Ticket     Fare Embarked Title  \n",
       "0      0         A/5 21171   7.2500        S    Mr  \n",
       "1      0          PC 17599  71.2833        C   Mrs  \n",
       "2      0  STON/O2. 3101282   7.9250        S  Miss  \n",
       "3      0            113803  53.1000        S   Mrs  \n",
       "4      0            373450   8.0500        S    Mr  "
      ]
     },
     "execution_count": 47,
     "metadata": {},
     "output_type": "execute_result"
    }
   ],
   "source": [
    "dataset.head()"
   ]
  },
  {
   "cell_type": "code",
   "execution_count": 49,
   "id": "7c24b449-e970-43a4-8713-b275941d0780",
   "metadata": {},
   "outputs": [
    {
     "data": {
      "text/plain": [
       "PassengerId      0\n",
       "Survived       418\n",
       "Pclass           0\n",
       "Name             0\n",
       "Sex              0\n",
       "Age              0\n",
       "SibSp            0\n",
       "Parch            0\n",
       "Ticket           0\n",
       "Fare             0\n",
       "Embarked         0\n",
       "Title            0\n",
       "dtype: int64"
      ]
     },
     "execution_count": 49,
     "metadata": {},
     "output_type": "execute_result"
    }
   ],
   "source": [
    "dataset.isna().sum()"
   ]
  },
  {
   "cell_type": "markdown",
   "id": "507d8b16-a0d0-4905-81fa-a04e367dfb76",
   "metadata": {},
   "source": [
    "## Feature Engineering"
   ]
  },
  {
   "cell_type": "code",
   "execution_count": 50,
   "id": "e7644ffc-200e-4060-b900-52037005fa08",
   "metadata": {},
   "outputs": [
    {
     "data": {
      "text/html": [
       "<div>\n",
       "<style scoped>\n",
       "    .dataframe tbody tr th:only-of-type {\n",
       "        vertical-align: middle;\n",
       "    }\n",
       "\n",
       "    .dataframe tbody tr th {\n",
       "        vertical-align: top;\n",
       "    }\n",
       "\n",
       "    .dataframe thead th {\n",
       "        text-align: right;\n",
       "    }\n",
       "</style>\n",
       "<table border=\"1\" class=\"dataframe\">\n",
       "  <thead>\n",
       "    <tr style=\"text-align: right;\">\n",
       "      <th></th>\n",
       "      <th>Survived</th>\n",
       "      <th>Pclass</th>\n",
       "      <th>Sex</th>\n",
       "      <th>Age</th>\n",
       "      <th>SibSp</th>\n",
       "      <th>Parch</th>\n",
       "      <th>Ticket</th>\n",
       "      <th>Fare</th>\n",
       "      <th>Embarked</th>\n",
       "      <th>Title</th>\n",
       "    </tr>\n",
       "  </thead>\n",
       "  <tbody>\n",
       "    <tr>\n",
       "      <th>0</th>\n",
       "      <td>0.0</td>\n",
       "      <td>3</td>\n",
       "      <td>male</td>\n",
       "      <td>22.0</td>\n",
       "      <td>1</td>\n",
       "      <td>0</td>\n",
       "      <td>A/5 21171</td>\n",
       "      <td>7.2500</td>\n",
       "      <td>S</td>\n",
       "      <td>Mr</td>\n",
       "    </tr>\n",
       "    <tr>\n",
       "      <th>1</th>\n",
       "      <td>1.0</td>\n",
       "      <td>1</td>\n",
       "      <td>female</td>\n",
       "      <td>38.0</td>\n",
       "      <td>1</td>\n",
       "      <td>0</td>\n",
       "      <td>PC 17599</td>\n",
       "      <td>71.2833</td>\n",
       "      <td>C</td>\n",
       "      <td>Mrs</td>\n",
       "    </tr>\n",
       "    <tr>\n",
       "      <th>2</th>\n",
       "      <td>1.0</td>\n",
       "      <td>3</td>\n",
       "      <td>female</td>\n",
       "      <td>26.0</td>\n",
       "      <td>0</td>\n",
       "      <td>0</td>\n",
       "      <td>STON/O2. 3101282</td>\n",
       "      <td>7.9250</td>\n",
       "      <td>S</td>\n",
       "      <td>Miss</td>\n",
       "    </tr>\n",
       "    <tr>\n",
       "      <th>3</th>\n",
       "      <td>1.0</td>\n",
       "      <td>1</td>\n",
       "      <td>female</td>\n",
       "      <td>35.0</td>\n",
       "      <td>1</td>\n",
       "      <td>0</td>\n",
       "      <td>113803</td>\n",
       "      <td>53.1000</td>\n",
       "      <td>S</td>\n",
       "      <td>Mrs</td>\n",
       "    </tr>\n",
       "    <tr>\n",
       "      <th>4</th>\n",
       "      <td>0.0</td>\n",
       "      <td>3</td>\n",
       "      <td>male</td>\n",
       "      <td>35.0</td>\n",
       "      <td>0</td>\n",
       "      <td>0</td>\n",
       "      <td>373450</td>\n",
       "      <td>8.0500</td>\n",
       "      <td>S</td>\n",
       "      <td>Mr</td>\n",
       "    </tr>\n",
       "  </tbody>\n",
       "</table>\n",
       "</div>"
      ],
      "text/plain": [
       "   Survived  Pclass     Sex   Age  SibSp  Parch            Ticket     Fare  \\\n",
       "0       0.0       3    male  22.0      1      0         A/5 21171   7.2500   \n",
       "1       1.0       1  female  38.0      1      0          PC 17599  71.2833   \n",
       "2       1.0       3  female  26.0      0      0  STON/O2. 3101282   7.9250   \n",
       "3       1.0       1  female  35.0      1      0            113803  53.1000   \n",
       "4       0.0       3    male  35.0      0      0            373450   8.0500   \n",
       "\n",
       "  Embarked Title  \n",
       "0        S    Mr  \n",
       "1        C   Mrs  \n",
       "2        S  Miss  \n",
       "3        S   Mrs  \n",
       "4        S    Mr  "
      ]
     },
     "execution_count": 50,
     "metadata": {},
     "output_type": "execute_result"
    }
   ],
   "source": [
    "dataset.drop([\"PassengerId\", \"Name\"], inplace=True, axis=1)\n",
    "dataset.head()"
   ]
  },
  {
   "cell_type": "code",
   "execution_count": 55,
   "id": "217bb714-ee81-4bd7-a9bd-09e3de60394c",
   "metadata": {},
   "outputs": [],
   "source": [
    "dataset[\"Sex\"] = dataset[\"Sex\"].map({\"male\": 0, \"female\":1}) # Mapping the values to 0 and 1 for modelling\n",
    "dataset[\"Family_Size\"] = dataset[\"SibSp\"] + dataset[\"Parch\"] + 1 # Number of people in a family including the person himself\n",
    "dataset = pd.get_dummies(dataset, columns = [\"Title\"]) # One hot encoding the Title column\n",
    "dataset = pd.get_dummies(dataset, columns = [\"Embarked\"], prefix=\"Em\") # One hot encoding the Embarked column\n",
    "dataset[\"Pclass\"] = dataset[\"Pclass\"].astype(\"category\") # Converting the PClass into category type\n",
    "dataset = pd.get_dummies(dataset, columns = [\"Pclass\"],prefix=\"Pc\") # One hot encoding the Pclass column\n",
    "dataset[\"Fare\"] = dataset[\"Fare\"].map(lambda i: np.log(i) if i > 0 else 0) # Doing the log transformation on the skewed Fare column"
   ]
  },
  {
   "cell_type": "code",
   "execution_count": 56,
   "id": "303de5a4-3221-43c7-b659-37d534859656",
   "metadata": {},
   "outputs": [
    {
     "data": {
      "text/html": [
       "<div>\n",
       "<style scoped>\n",
       "    .dataframe tbody tr th:only-of-type {\n",
       "        vertical-align: middle;\n",
       "    }\n",
       "\n",
       "    .dataframe tbody tr th {\n",
       "        vertical-align: top;\n",
       "    }\n",
       "\n",
       "    .dataframe thead th {\n",
       "        text-align: right;\n",
       "    }\n",
       "</style>\n",
       "<table border=\"1\" class=\"dataframe\">\n",
       "  <thead>\n",
       "    <tr style=\"text-align: right;\">\n",
       "      <th></th>\n",
       "      <th>Survived</th>\n",
       "      <th>Sex</th>\n",
       "      <th>Age</th>\n",
       "      <th>SibSp</th>\n",
       "      <th>Parch</th>\n",
       "      <th>Fare</th>\n",
       "      <th>Family_Size</th>\n",
       "      <th>Title_Dr</th>\n",
       "      <th>Title_Master</th>\n",
       "      <th>Title_Miss</th>\n",
       "      <th>...</th>\n",
       "      <th>T_SOTONO2</th>\n",
       "      <th>T_SOTONOQ</th>\n",
       "      <th>T_SP</th>\n",
       "      <th>T_STONO</th>\n",
       "      <th>T_STONO2</th>\n",
       "      <th>T_STONOQ</th>\n",
       "      <th>T_SWPP</th>\n",
       "      <th>T_WC</th>\n",
       "      <th>T_WEP</th>\n",
       "      <th>T_X</th>\n",
       "    </tr>\n",
       "  </thead>\n",
       "  <tbody>\n",
       "    <tr>\n",
       "      <th>0</th>\n",
       "      <td>0.0</td>\n",
       "      <td>0</td>\n",
       "      <td>22.0</td>\n",
       "      <td>1</td>\n",
       "      <td>0</td>\n",
       "      <td>1.981001</td>\n",
       "      <td>2</td>\n",
       "      <td>False</td>\n",
       "      <td>False</td>\n",
       "      <td>False</td>\n",
       "      <td>...</td>\n",
       "      <td>False</td>\n",
       "      <td>False</td>\n",
       "      <td>False</td>\n",
       "      <td>False</td>\n",
       "      <td>False</td>\n",
       "      <td>False</td>\n",
       "      <td>False</td>\n",
       "      <td>False</td>\n",
       "      <td>False</td>\n",
       "      <td>False</td>\n",
       "    </tr>\n",
       "    <tr>\n",
       "      <th>1</th>\n",
       "      <td>1.0</td>\n",
       "      <td>1</td>\n",
       "      <td>38.0</td>\n",
       "      <td>1</td>\n",
       "      <td>0</td>\n",
       "      <td>4.266662</td>\n",
       "      <td>2</td>\n",
       "      <td>False</td>\n",
       "      <td>False</td>\n",
       "      <td>False</td>\n",
       "      <td>...</td>\n",
       "      <td>False</td>\n",
       "      <td>False</td>\n",
       "      <td>False</td>\n",
       "      <td>False</td>\n",
       "      <td>False</td>\n",
       "      <td>False</td>\n",
       "      <td>False</td>\n",
       "      <td>False</td>\n",
       "      <td>False</td>\n",
       "      <td>False</td>\n",
       "    </tr>\n",
       "    <tr>\n",
       "      <th>2</th>\n",
       "      <td>1.0</td>\n",
       "      <td>1</td>\n",
       "      <td>26.0</td>\n",
       "      <td>0</td>\n",
       "      <td>0</td>\n",
       "      <td>2.070022</td>\n",
       "      <td>1</td>\n",
       "      <td>False</td>\n",
       "      <td>False</td>\n",
       "      <td>True</td>\n",
       "      <td>...</td>\n",
       "      <td>False</td>\n",
       "      <td>False</td>\n",
       "      <td>False</td>\n",
       "      <td>False</td>\n",
       "      <td>True</td>\n",
       "      <td>False</td>\n",
       "      <td>False</td>\n",
       "      <td>False</td>\n",
       "      <td>False</td>\n",
       "      <td>False</td>\n",
       "    </tr>\n",
       "    <tr>\n",
       "      <th>3</th>\n",
       "      <td>1.0</td>\n",
       "      <td>1</td>\n",
       "      <td>35.0</td>\n",
       "      <td>1</td>\n",
       "      <td>0</td>\n",
       "      <td>3.972177</td>\n",
       "      <td>2</td>\n",
       "      <td>False</td>\n",
       "      <td>False</td>\n",
       "      <td>False</td>\n",
       "      <td>...</td>\n",
       "      <td>False</td>\n",
       "      <td>False</td>\n",
       "      <td>False</td>\n",
       "      <td>False</td>\n",
       "      <td>False</td>\n",
       "      <td>False</td>\n",
       "      <td>False</td>\n",
       "      <td>False</td>\n",
       "      <td>False</td>\n",
       "      <td>True</td>\n",
       "    </tr>\n",
       "    <tr>\n",
       "      <th>4</th>\n",
       "      <td>0.0</td>\n",
       "      <td>0</td>\n",
       "      <td>35.0</td>\n",
       "      <td>0</td>\n",
       "      <td>0</td>\n",
       "      <td>2.085672</td>\n",
       "      <td>1</td>\n",
       "      <td>False</td>\n",
       "      <td>False</td>\n",
       "      <td>False</td>\n",
       "      <td>...</td>\n",
       "      <td>False</td>\n",
       "      <td>False</td>\n",
       "      <td>False</td>\n",
       "      <td>False</td>\n",
       "      <td>False</td>\n",
       "      <td>False</td>\n",
       "      <td>False</td>\n",
       "      <td>False</td>\n",
       "      <td>False</td>\n",
       "      <td>True</td>\n",
       "    </tr>\n",
       "  </tbody>\n",
       "</table>\n",
       "<p>5 rows × 56 columns</p>\n",
       "</div>"
      ],
      "text/plain": [
       "   Survived  Sex   Age  SibSp  Parch      Fare  Family_Size  Title_Dr  \\\n",
       "0       0.0    0  22.0      1      0  1.981001            2     False   \n",
       "1       1.0    1  38.0      1      0  4.266662            2     False   \n",
       "2       1.0    1  26.0      0      0  2.070022            1     False   \n",
       "3       1.0    1  35.0      1      0  3.972177            2     False   \n",
       "4       0.0    0  35.0      0      0  2.085672            1     False   \n",
       "\n",
       "   Title_Master  Title_Miss  ...  T_SOTONO2  T_SOTONOQ   T_SP  T_STONO  \\\n",
       "0         False       False  ...      False      False  False    False   \n",
       "1         False       False  ...      False      False  False    False   \n",
       "2         False        True  ...      False      False  False    False   \n",
       "3         False       False  ...      False      False  False    False   \n",
       "4         False       False  ...      False      False  False    False   \n",
       "\n",
       "   T_STONO2  T_STONOQ  T_SWPP   T_WC  T_WEP    T_X  \n",
       "0     False     False   False  False  False  False  \n",
       "1     False     False   False  False  False  False  \n",
       "2      True     False   False  False  False  False  \n",
       "3     False     False   False  False  False   True  \n",
       "4     False     False   False  False  False   True  \n",
       "\n",
       "[5 rows x 56 columns]"
      ]
     },
     "execution_count": 56,
     "metadata": {},
     "output_type": "execute_result"
    }
   ],
   "source": [
    "## Treat Ticket by extracting the ticket prefix. When there is no prefix it returns X. \n",
    "Ticket = []\n",
    "for i in list(dataset.Ticket):\n",
    "    if not i.isdigit() :\n",
    "        Ticket.append(i.replace(\".\",\"\").replace(\"/\",\"\").strip().split(' ')[0]) #Take prefix\n",
    "    else:\n",
    "        Ticket.append(\"X\")\n",
    "        \n",
    "dataset[\"Ticket\"] = Ticket\n",
    "dataset = pd.get_dummies(dataset, columns = [\"Ticket\"], prefix=\"T\")\n",
    "dataset.head()"
   ]
  },
  {
   "cell_type": "markdown",
   "id": "65ea391c-8b81-4640-8937-ed52cde5d2b4",
   "metadata": {},
   "source": [
    "## Modeling"
   ]
  },
  {
   "cell_type": "code",
   "execution_count": 57,
   "id": "065590c2-d62c-447c-b719-bee3f7014a8c",
   "metadata": {},
   "outputs": [],
   "source": [
    "# Separate the dataset into training and testing dataset\n",
    "train_len = len(df_train)\n",
    "training_dataset = dataset[:train_len]"
   ]
  },
  {
   "cell_type": "code",
   "execution_count": 58,
   "id": "0c94d117-912a-4ab2-be17-7aa20ae4f44a",
   "metadata": {},
   "outputs": [],
   "source": [
    "# Separate into testing dataset\n",
    "testing_dataset = dataset[train_len:]\n",
    "testing_dataset.drop(labels=[\"Survived\"],axis = 1,inplace=True)"
   ]
  },
  {
   "cell_type": "code",
   "execution_count": 59,
   "id": "6cdcf84c-4b09-4db5-99bc-33fbd0008319",
   "metadata": {},
   "outputs": [],
   "source": [
    "# Splitting the training dataset into datasets for training and testing the model\n",
    "training_dataset[\"Survived\"] = training_dataset[\"Survived\"].astype(int)\n",
    "X_train, X_test = train_test_split(training_dataset,test_size=0.3,random_state=42,stratify=training_dataset['Survived']) # stratify是指示分层抽样\n",
    "y_train = X_train[[\"Survived\"]]\n",
    "y_test = X_test[[\"Survived\"]]"
   ]
  },
  {
   "cell_type": "code",
   "execution_count": 60,
   "id": "39eca5d9-b246-45c8-bdd4-7e95403360fb",
   "metadata": {},
   "outputs": [
    {
     "name": "stdout",
     "output_type": "stream",
     "text": [
      "Accuracy for rbf SVM is  0.8171641791044776\n"
     ]
    }
   ],
   "source": [
    "# Support Vector Machine\n",
    "model_svm=SVC(kernel='rbf',C=1,gamma=0.1)\n",
    "model_svm.fit(X_train.drop([\"Survived\"], axis=1),y_train)\n",
    "prediction1=model_svm.predict(X_test.drop([\"Survived\"], axis=1))\n",
    "print('Accuracy for rbf SVM is ', accuracy_score(prediction1,y_test))"
   ]
  },
  {
   "cell_type": "code",
   "execution_count": 61,
   "id": "7a0fb1b9-543e-4ef4-8d26-fbe21608da56",
   "metadata": {},
   "outputs": [
    {
     "name": "stdout",
     "output_type": "stream",
     "text": [
      "The accuracy of the Logistic Regression is 0.8283582089552238\n"
     ]
    }
   ],
   "source": [
    "# Logistic Regression\n",
    "model_lg = LogisticRegression(solver='liblinear')\n",
    "model_lg.fit(X_train.drop([\"Survived\"], axis=1), y_train)\n",
    "prediction3=model_lg.predict(X_test.drop([\"Survived\"], axis=1))\n",
    "print('The accuracy of the Logistic Regression is',accuracy_score(prediction3,y_test))"
   ]
  },
  {
   "cell_type": "code",
   "execution_count": 62,
   "id": "7db1d4e8-8d4c-480b-ace0-0b61776128ef",
   "metadata": {},
   "outputs": [
    {
     "name": "stdout",
     "output_type": "stream",
     "text": [
      "The accuracy of the Decision Tree is 0.7574626865671642\n"
     ]
    }
   ],
   "source": [
    "# Decision Tree Classifier\n",
    "model_dt=DecisionTreeClassifier()\n",
    "model_dt.fit(X_train.drop([\"Survived\"], axis=1),y_train)\n",
    "prediction4=model_dt.predict(X_test.drop([\"Survived\"], axis=1))\n",
    "print('The accuracy of the Decision Tree is', accuracy_score(prediction4,y_test))"
   ]
  },
  {
   "cell_type": "code",
   "execution_count": 63,
   "id": "69f8effe-437a-4bfd-b6d0-cedb49c2ca39",
   "metadata": {},
   "outputs": [
    {
     "name": "stdout",
     "output_type": "stream",
     "text": [
      "The accuracy of the KNN is 0.7723880597014925\n"
     ]
    }
   ],
   "source": [
    "# K Nearest Neighbours Classifier\n",
    "model_knn=KNeighborsClassifier() \n",
    "model_knn.fit(X_train.drop([\"Survived\"], axis=1),y_train)\n",
    "prediction5=model_knn.predict(X_test.drop([\"Survived\"], axis=1))\n",
    "print('The accuracy of the KNN is', accuracy_score(prediction5,y_test))"
   ]
  },
  {
   "cell_type": "code",
   "execution_count": 64,
   "id": "94a84f9e-8486-489f-a3a5-a6dae3dcf2cb",
   "metadata": {},
   "outputs": [
    {
     "name": "stdout",
     "output_type": "stream",
     "text": [
      "The accuracy of the NaiveBayes is 0.4216417910447761\n"
     ]
    }
   ],
   "source": [
    "# Gaussian Naive Bayes Classifier\n",
    "model_gn=GaussianNB()\n",
    "model_gn.fit(X_train.drop([\"Survived\"], axis=1),y_train)\n",
    "prediction6=model_gn.predict(X_test.drop([\"Survived\"], axis=1))\n",
    "print('The accuracy of the NaiveBayes is', accuracy_score(prediction6,y_test))"
   ]
  },
  {
   "cell_type": "code",
   "execution_count": 65,
   "id": "a3cef7c6-1f72-4948-8c31-943d329b39ac",
   "metadata": {},
   "outputs": [
    {
     "name": "stdout",
     "output_type": "stream",
     "text": [
      "The accuracy of the Random Forests is 0.8171641791044776\n"
     ]
    }
   ],
   "source": [
    "# Random Forest Classifier\n",
    "model_rf=RandomForestClassifier(n_estimators=100)\n",
    "model_rf.fit(X_train.drop([\"Survived\"], axis=1),y_train)\n",
    "prediction7=model_rf.predict(X_test.drop([\"Survived\"], axis=1))\n",
    "print('The accuracy of the Random Forests is', accuracy_score(prediction7,y_test))"
   ]
  },
  {
   "cell_type": "code",
   "execution_count": 78,
   "id": "d58cd8c5-e72c-4b49-b24d-7744291a1d41",
   "metadata": {},
   "outputs": [
    {
     "name": "stdout",
     "output_type": "stream",
     "text": [
      "Collecting xgboost\n",
      "  Downloading xgboost-2.0.3-py3-none-macosx_12_0_arm64.whl.metadata (2.0 kB)\n",
      "Requirement already satisfied: numpy in /Users/sallyw/machine-learning-lab/mlztm/env/lib/python3.11/site-packages (from xgboost) (1.26.2)\n",
      "Requirement already satisfied: scipy in /Users/sallyw/machine-learning-lab/mlztm/env/lib/python3.11/site-packages (from xgboost) (1.11.4)\n",
      "Downloading xgboost-2.0.3-py3-none-macosx_12_0_arm64.whl (1.9 MB)\n",
      "\u001b[2K   \u001b[90m━━━━━━━━━━━━━━━━━━━━━━━━━━━━━━━━━━━━━━━━\u001b[0m \u001b[32m1.9/1.9 MB\u001b[0m \u001b[31m9.4 MB/s\u001b[0m eta \u001b[36m0:00:00\u001b[0ma \u001b[36m0:00:01\u001b[0m\n",
      "\u001b[?25hInstalling collected packages: xgboost\n",
      "Successfully installed xgboost-2.0.3\n"
     ]
    }
   ],
   "source": [
    "!pip install xgboost"
   ]
  },
  {
   "cell_type": "markdown",
   "id": "72bdd825-48de-4646-82e1-2dcf0086c4ec",
   "metadata": {},
   "source": [
    "## Cross Validation"
   ]
  },
  {
   "cell_type": "code",
   "execution_count": 66,
   "id": "3cdb4674-f7b4-4808-ab8f-0de61e9c2a19",
   "metadata": {},
   "outputs": [
    {
     "name": "stderr",
     "output_type": "stream",
     "text": [
      "100%|█████████████████████████████████████████████| 6/6 [00:01<00:00,  3.20it/s]\n"
     ]
    },
    {
     "data": {
      "text/html": [
       "<div>\n",
       "<style scoped>\n",
       "    .dataframe tbody tr th:only-of-type {\n",
       "        vertical-align: middle;\n",
       "    }\n",
       "\n",
       "    .dataframe tbody tr th {\n",
       "        vertical-align: top;\n",
       "    }\n",
       "\n",
       "    .dataframe thead th {\n",
       "        text-align: right;\n",
       "    }\n",
       "</style>\n",
       "<table border=\"1\" class=\"dataframe\">\n",
       "  <thead>\n",
       "    <tr style=\"text-align: right;\">\n",
       "      <th></th>\n",
       "      <th>CV Mean</th>\n",
       "      <th>Std</th>\n",
       "    </tr>\n",
       "  </thead>\n",
       "  <tbody>\n",
       "    <tr>\n",
       "      <th>Radial Svm</th>\n",
       "      <td>0.704794</td>\n",
       "      <td>0.054514</td>\n",
       "    </tr>\n",
       "    <tr>\n",
       "      <th>Logistic Regression</th>\n",
       "      <td>0.823845</td>\n",
       "      <td>0.043260</td>\n",
       "    </tr>\n",
       "    <tr>\n",
       "      <th>KNN</th>\n",
       "      <td>0.778926</td>\n",
       "      <td>0.027299</td>\n",
       "    </tr>\n",
       "    <tr>\n",
       "      <th>Decision Tree</th>\n",
       "      <td>0.787940</td>\n",
       "      <td>0.044128</td>\n",
       "    </tr>\n",
       "    <tr>\n",
       "      <th>Naive Bayes</th>\n",
       "      <td>0.445618</td>\n",
       "      <td>0.038137</td>\n",
       "    </tr>\n",
       "    <tr>\n",
       "      <th>Random Forest</th>\n",
       "      <td>0.819388</td>\n",
       "      <td>0.043434</td>\n",
       "    </tr>\n",
       "  </tbody>\n",
       "</table>\n",
       "</div>"
      ],
      "text/plain": [
       "                      CV Mean       Std\n",
       "Radial Svm           0.704794  0.054514\n",
       "Logistic Regression  0.823845  0.043260\n",
       "KNN                  0.778926  0.027299\n",
       "Decision Tree        0.787940  0.044128\n",
       "Naive Bayes          0.445618  0.038137\n",
       "Random Forest        0.819388  0.043434"
      ]
     },
     "execution_count": 66,
     "metadata": {},
     "output_type": "execute_result"
    }
   ],
   "source": [
    "kfold = KFold(n_splits=10, shuffle=True, random_state=22) # k=10, split the data into 10 equal parts\n",
    "mean_of_cross_validation = list()\n",
    "accuracy = list()\n",
    "\n",
    "std_of_cross_validation = list()\n",
    "classifiers = [\n",
    "    'Radial Svm', \n",
    "    'Logistic Regression',\n",
    "    'KNN',\n",
    "    'Decision Tree',\n",
    "    'Naive Bayes', \n",
    "    'Random Forest'\n",
    "]\n",
    "\n",
    "models=[\n",
    "    SVC(kernel='rbf'),\n",
    "    LogisticRegression(solver=\"liblinear\"),\n",
    "    KNeighborsClassifier(n_neighbors=9),\n",
    "    DecisionTreeClassifier(),\n",
    "    GaussianNB(),\n",
    "    RandomForestClassifier(n_estimators=100)\n",
    "]\n",
    "\n",
    "for model in tqdm(models):\n",
    "    cv_result = cross_val_score(\n",
    "        model, \n",
    "        training_dataset.drop([\"Survived\"], axis=1),\n",
    "        training_dataset[[\"Survived\"]], \n",
    "        cv=kfold, \n",
    "        scoring=\"accuracy\"\n",
    "    )\n",
    "    mean_of_cross_validation.append(cv_result.mean())\n",
    "    std_of_cross_validation.append(cv_result.std())\n",
    "    accuracy.append(copy.deepcopy(cv_result))\n",
    "\n",
    "new_models_dataframe=pd.DataFrame({'CV Mean':mean_of_cross_validation,'Std':std_of_cross_validation},index=classifiers)       \n",
    "new_models_dataframe"
   ]
  },
  {
   "cell_type": "code",
   "execution_count": 67,
   "id": "9200ba6c-b3a9-43b6-96ba-b00d2a788263",
   "metadata": {},
   "outputs": [
    {
     "data": {
      "image/png": "[encoded data removed]",
      "text/plain": [
       "<Figure size 640x400 with 1 Axes>"
      ]
     },
     "metadata": {},
     "output_type": "display_data"
    }
   ],
   "source": [
    "new_models_dataframe['CV Mean'].plot.barh(width=0.8)\n",
    "plt.title('Average CV Mean Accuracy')\n",
    "fig = plt.gcf()\n",
    "fig.set_size_inches(8,5)\n",
    "plt.show()"
   ]
  },
  {
   "cell_type": "markdown",
   "id": "f7ca2649-967a-4835-a648-b709603dd754",
   "metadata": {},
   "source": [
    "## Confusion Matrix"
   ]
  },
  {
   "cell_type": "code",
   "execution_count": 68,
   "id": "59fa56dc-ac3e-43db-86a0-771dabde98d0",
   "metadata": {},
   "outputs": [
    {
     "data": {
      "image/png": "[encoded data removed]",
      "text/plain": [
       "<Figure size 960x800 with 12 Axes>"
      ]
     },
     "metadata": {},
     "output_type": "display_data"
    }
   ],
   "source": [
    "X = training_dataset.drop([\"Survived\"], axis=1)\n",
    "Y = training_dataset[[\"Survived\"]]\n",
    "\n",
    "f,ax=plt.subplots(3,2,figsize=(12,10))\n",
    "\n",
    "y_pred = cross_val_predict(SVC(kernel='rbf'),X,Y,cv=10)\n",
    "sns.heatmap(confusion_matrix(Y,y_pred),ax=ax[0,0],annot=True,fmt='2.0f')\n",
    "ax[0,0].set_title('Matrix for rbf-SVM')\n",
    "\n",
    "y_pred = cross_val_predict(KNeighborsClassifier(n_neighbors=9),X,Y,cv=10)\n",
    "sns.heatmap(confusion_matrix(Y,y_pred),ax=ax[0,1],annot=True,fmt='2.0f')\n",
    "ax[0,1].set_title('Matrix for KNN')\n",
    "\n",
    "y_pred = cross_val_predict(RandomForestClassifier(n_estimators=100),X,Y,cv=10)\n",
    "sns.heatmap(confusion_matrix(Y,y_pred),ax=ax[1,0],annot=True,fmt='2.0f')\n",
    "ax[1,0].set_title('Matrix for Random-Forests')\n",
    "\n",
    "y_pred = cross_val_predict(LogisticRegression(solver=\"liblinear\"),X,Y,cv=10)\n",
    "sns.heatmap(confusion_matrix(Y,y_pred),ax=ax[1,1],annot=True,fmt='2.0f')\n",
    "ax[1,1].set_title('Matrix for Logistic Regression')\n",
    "\n",
    "y_pred = cross_val_predict(DecisionTreeClassifier(),X,Y,cv=10)\n",
    "sns.heatmap(confusion_matrix(Y,y_pred),ax=ax[2,0],annot=True,fmt='2.0f')\n",
    "ax[2,0].set_title('Matrix for Decision Tree')\n",
    "\n",
    "y_pred = cross_val_predict(GaussianNB(),X,Y,cv=10)\n",
    "sns.heatmap(confusion_matrix(Y,y_pred),ax=ax[2,1],annot=True,fmt='2.0f')\n",
    "ax[2,1].set_title('Matrix for Naive Bayes')\n",
    "\n",
    "plt.subplots_adjust(hspace=0.2,wspace=0.2)\n",
    "plt.show()"
   ]
  },
  {
   "cell_type": "markdown",
   "id": "cc73cea8-7140-43c8-807c-a0c4b5c87d6e",
   "metadata": {},
   "source": [
    "可以看出SVM算法的表现最好。"
   ]
  },
  {
   "cell_type": "markdown",
   "id": "7b63a6f4-a13a-496c-8d81-d5c6859aef02",
   "metadata": {},
   "source": [
    "## Hyper-parameter Optimization"
   ]
  },
  {
   "cell_type": "code",
   "execution_count": 69,
   "id": "6a47361d-3e1e-4923-9d45-fd63ff08c918",
   "metadata": {},
   "outputs": [
    {
     "name": "stdout",
     "output_type": "stream",
     "text": [
      "Fitting 5 folds for each of 240 candidates, totalling 1200 fits\n",
      "0.8282593685267716\n",
      "SVC(C=1, gamma=0.1, kernel='linear')\n"
     ]
    }
   ],
   "source": [
    "# Possible Hyper-Parameter values for Support Vector Machines\n",
    "C = [0.05, 0.1, 0.2,0.25, 0.3, 0.4, 0.5, 0.6, 0.7, 0.8, 0.9, 1]\n",
    "gamma = [0.1, 0.2, 0.3, 0.4, 0.5, 0.6, 0.7, 0.8, 0.9, 1.0]\n",
    "kernel=['rbf','linear']\n",
    "hyper={'kernel': kernel, 'C': C, 'gamma': gamma}\n",
    "gd = GridSearchCV(estimator=SVC(),param_grid=hyper,verbose=True)\n",
    "gd.fit(X,Y)\n",
    "print(gd.best_score_)\n",
    "print(gd.best_estimator_)"
   ]
  },
  {
   "cell_type": "code",
   "execution_count": 70,
   "id": "03762eea-f5e4-467f-aded-15381964e4da",
   "metadata": {},
   "outputs": [
    {
     "name": "stdout",
     "output_type": "stream",
     "text": [
      "Fitting 5 folds for each of 9 candidates, totalling 45 fits\n",
      "0.8125792480070302\n",
      "RandomForestClassifier(n_estimators=400, random_state=42)\n"
     ]
    }
   ],
   "source": [
    "# Possible Hyperparameters for Random Forest\n",
    "n_estimators = range(100, 1000, 100)\n",
    "hyper = {'n_estimators': n_estimators}\n",
    "gd = GridSearchCV(estimator=RandomForestClassifier(random_state=42), param_grid=hyper, verbose=True)\n",
    "gd.fit(X,Y)\n",
    "print(gd.best_score_)\n",
    "print(gd.best_estimator_)"
   ]
  },
  {
   "cell_type": "markdown",
   "id": "3bdd8452-0d31-4542-94e5-e27e3f9d57f2",
   "metadata": {},
   "source": [
    "## Submission on Kaggle Competition"
   ]
  },
  {
   "cell_type": "code",
   "execution_count": 71,
   "id": "af836615-2d9b-4f7c-89a5-58edd730e601",
   "metadata": {},
   "outputs": [],
   "source": [
    "svm_predictions = model_svm.predict(testing_dataset) # Support Vector Machine\n",
    "logistic_regression_predictions = model_lg.predict(testing_dataset) # Logistic Regression\n",
    "random_forest_predictions = model_rf.predict(testing_dataset) # Random Forest\n",
    "\n",
    "svm_submission = pd.DataFrame(\n",
    "    {'PassengerId': id_test,\n",
    "     'Survived': svm_predictions\n",
    "    })\n",
    "\n",
    "lg_submission = pd.DataFrame(\n",
    "    {'PassengerId': id_test,\n",
    "     'Survived': logistic_regression_predictions\n",
    "    })\n",
    "rf_submission = pd.DataFrame(\n",
    "    {'PassengerId': id_test,\n",
    "     'Survived': random_forest_predictions\n",
    "    })"
   ]
  },
  {
   "cell_type": "code",
   "execution_count": 72,
   "id": "ee5eca11-0813-4ef9-94e2-b6be3b2caa3b",
   "metadata": {},
   "outputs": [],
   "source": [
    "# Function to create the Download link to the Submissions\n",
    "def create_download_link(df, title = \"Download CSV file\", filename = \"data.csv\"):  \n",
    "    csv = df.to_csv(index=False)\n",
    "    b64 = base64.b64encode(csv.encode())\n",
    "    payload = b64.decode()\n",
    "    html = '<a download=\"{filename}\" href=\"data:text/csv;base64,{payload}\" target=\"_blank\">{title}</a>'\n",
    "    html = html.format(payload=payload,title=title,filename=filename)\n",
    "    return HTML(html)"
   ]
  },
  {
   "cell_type": "code",
   "execution_count": 73,
   "id": "41d8f8b5-12af-401b-a038-ba035949f9a5",
   "metadata": {},
   "outputs": [
    {
     "data": {
      "text/html": [
       "<a download=\"svm_submission.csv\" href=\"data:text/csv;base64,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\" target=\"_blank\">Download Support Vector Machine Submission</a>"
      ],
      "text/plain": [
       "<IPython.core.display.HTML object>"
      ]
     },
     "execution_count": 73,
     "metadata": {},
     "output_type": "execute_result"
    }
   ],
   "source": [
    "create_download_link(svm_submission, title=\"Download Support Vector Machine Submission\", filename=\"svm_submission.csv\")"
   ]
  },
  {
   "cell_type": "code",
   "execution_count": 74,
   "id": "73e3dc24-dc1e-4bc0-8561-990e61e485c5",
   "metadata": {},
   "outputs": [
    {
     "data": {
      "text/html": [
       "<a download=\"lg_submission.csv\" href=\"data:text/csv;base64,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\" target=\"_blank\">Download Logistic Regression Submission</a>"
      ],
      "text/plain": [
       "<IPython.core.display.HTML object>"
      ]
     },
     "execution_count": 74,
     "metadata": {},
     "output_type": "execute_result"
    }
   ],
   "source": [
    "create_download_link(lg_submission, title=\"Download Logistic Regression Submission\", filename=\"lg_submission.csv\")"
   ]
  },
  {
   "cell_type": "code",
   "execution_count": 75,
   "id": "b899ee6a-9f42-45c4-bc20-7b3645933998",
   "metadata": {},
   "outputs": [
    {
     "data": {
      "text/html": [
       "<a download=\"rf_submission.csv\" href=\"data:text/csv;base64,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\" target=\"_blank\">Download Random Forest Submission</a>"
      ],
      "text/plain": [
       "<IPython.core.display.HTML object>"
      ]
     },
     "execution_count": 75,
     "metadata": {},
     "output_type": "execute_result"
    }
   ],
   "source": [
    "create_download_link(rf_submission, title=\"Download Random Forest Submission\", filename=\"rf_submission.csv\")"
   ]
  },
  {
   "cell_type": "markdown",
   "id": "8d788d38-dc7a-45cb-8b61-915b43e33641",
   "metadata": {},
   "source": [
    "## Results"
   ]
  },
  {
   "cell_type": "markdown",
   "id": "8af7f416-0cda-4e58-b039-c9c985e7b0b5",
   "metadata": {},
   "source": [
    "- 逻辑回归：Score: 0.77272\n",
    "- 随机森林：Score: 0.73684\n",
    "- SVM：Score: 0.72009\n",
    "\n",
    "最好的是逻辑回归，传统的统计分析还是很强的，但是估计大家都是用XGBoost预测的100%"
   ]
  },
  {
   "cell_type": "markdown",
   "id": "e53949b7-458a-48f3-89a1-785288c41fd8",
   "metadata": {},
   "source": [
    "## Try Others"
   ]
  },
  {
   "cell_type": "code",
   "execution_count": 90,
   "id": "2a70f2d1-99cc-4210-bb19-d992efa81098",
   "metadata": {},
   "outputs": [
    {
     "name": "stdout",
     "output_type": "stream",
     "text": [
      "The accuracy of the XGBoost is 0.8246268656716418\n"
     ]
    }
   ],
   "source": [
    "# XGBoost\n",
    "from xgboost import XGBClassifier\n",
    "clf = XGBClassifier(random_state=1,learning_rate=0.01, n_jobs=-1).fit(X_train.drop([\"Survived\"], axis=1),y_train)\n",
    "prediction8 = clf.predict(X_test.drop([\"Survived\"], axis=1))\n",
    "print('The accuracy of the XGBoost is', accuracy_score(prediction8, y_test))"
   ]
  },
  {
   "cell_type": "code",
   "execution_count": 91,
   "id": "3555e3c7-f67e-425f-8838-b78123d6cb0d",
   "metadata": {},
   "outputs": [],
   "source": [
    "xgboost_predictions = clf.predict(testing_dataset)\n",
    "xgboost_submission = pd.DataFrame(\n",
    "    {'PassengerId': id_test,\n",
    "     'Survived': xgboost_predictions\n",
    "    })"
   ]
  },
  {
   "cell_type": "code",
   "execution_count": 92,
   "id": "6511e44f-0190-412c-bd9d-f414377743b9",
   "metadata": {},
   "outputs": [
    {
     "data": {
      "text/html": [
       "<a download=\"xgb_submission.csv\" href=\"data:text/csv;base64,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\" target=\"_blank\">Download Xgboost Submission</a>"
      ],
      "text/plain": [
       "<IPython.core.display.HTML object>"
      ]
     },
     "execution_count": 92,
     "metadata": {},
     "output_type": "execute_result"
    }
   ],
   "source": [
    "create_download_link(xgboost_submission, title=\"Download Xgboost Submission\", filename=\"xgb_submission.csv\")"
   ]
  },
  {
   "cell_type": "markdown",
   "id": "853b2179-2c92-410d-bfff-8ff3dccc2d76",
   "metadata": {},
   "source": [
    "只有0.74看来还是要学习一下kaggle网友了。"
   ]
  },
  {
   "cell_type": "code",
   "execution_count": null,
   "id": "64c96da0-2297-42e1-a6e9-2cdc2c2c1d84",
   "metadata": {},
   "outputs": [],
   "source": []
  }
 ],
 "metadata": {
  "kernelspec": {
   "display_name": "Python 3 (ipykernel)",
   "language": "python",
   "name": "python3"
  },
  "language_info": {
   "codemirror_mode": {
    "name": "ipython",
    "version": 3
   },
   "file_extension": ".py",
   "mimetype": "text/x-python",
   "name": "python",
   "nbconvert_exporter": "python",
   "pygments_lexer": "ipython3",
   "version": "3.11.5"
  }
 },
 "nbformat": 4,
 "nbformat_minor": 5
}
